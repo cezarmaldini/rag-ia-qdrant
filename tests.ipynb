{
 "cells": [
  {
   "cell_type": "code",
   "execution_count": 3,
   "id": "9b35ed3b",
   "metadata": {},
   "outputs": [],
   "source": [
    "# QDRANT\n",
    "## Importar o client\n",
    "from qdrant_client import QdrantClient\n",
    "## Criar collection\n",
    "from qdrant_client.http.models import Distance, VectorParams\n",
    "\n",
    "# LANGCHAIN\n",
    "## Importar Qdrant com Vector Store\n",
    "from langchain.vectorstores import Qdrant\n",
    "## Importar OpenAI embeddings\n",
    "from langchain.embeddings.openai import OpenAIEmbeddings\n",
    "## Função para criação de chunks\n",
    "from langchain.text_splitter import CharacterTextSplitter\n",
    "## Módulo para facilitar o uso de vector stores em QA (question answering)\n",
    "from langchain.chains import RetrievalQA\n",
    "## Importar LLM\n",
    "from langchain.llms import OpenAI\n",
    "\n",
    "# Variáveis de ambiente\n",
    "import os"
   ]
  },
  {
   "cell_type": "code",
   "execution_count": 4,
   "id": "337222e8",
   "metadata": {},
   "outputs": [],
   "source": [
    "client = QdrantClient(host='localhost', port=6333)"
   ]
  },
  {
   "cell_type": "code",
   "execution_count": 6,
   "id": "ec136054",
   "metadata": {},
   "outputs": [],
   "source": [
    "if not client.collection_exists('rag_qdrant_collection'):\n",
    "    client.create_collection(\n",
    "        collection_name='rag_qdrant_collection',\n",
    "        vectors_config=VectorParams(size=1536, distance=Distance.COSINE)\n",
    "    )"
   ]
  }
 ],
 "metadata": {
  "kernelspec": {
   "display_name": ".venv",
   "language": "python",
   "name": "python3"
  },
  "language_info": {
   "codemirror_mode": {
    "name": "ipython",
    "version": 3
   },
   "file_extension": ".py",
   "mimetype": "text/x-python",
   "name": "python",
   "nbconvert_exporter": "python",
   "pygments_lexer": "ipython3",
   "version": "3.12.3"
  }
 },
 "nbformat": 4,
 "nbformat_minor": 5
}
