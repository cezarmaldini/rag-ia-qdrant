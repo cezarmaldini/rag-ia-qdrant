{
 "cells": [
  {
   "cell_type": "code",
   "execution_count": 8,
   "id": "9b35ed3b",
   "metadata": {},
   "outputs": [],
   "source": [
    "# QDRANT\n",
    "## Importar o client\n",
    "from qdrant_client import QdrantClient\n",
    "## Criar collection\n",
    "from qdrant_client.http.models import Distance, VectorParams\n",
    "\n",
    "# LANGCHAIN\n",
    "## Importar Qdrant com Vector Store\n",
    "from langchain.vectorstores import Qdrant\n",
    "## Importar OpenAI embeddings\n",
    "from langchain.embeddings.openai import OpenAIEmbeddings\n",
    "## Função para criação de chunks\n",
    "from langchain.text_splitter import CharacterTextSplitter\n",
    "## Módulo para facilitar o uso de vector stores em QA (question answering)\n",
    "from langchain.chains import RetrievalQA\n",
    "## Importar LLM\n",
    "from langchain.llms import OpenAI\n",
    "\n",
    "# Variáveis de ambiente\n",
    "import os\n",
    "from dotenv import load_dotenv"
   ]
  },
  {
   "cell_type": "code",
   "execution_count": 4,
   "id": "337222e8",
   "metadata": {},
   "outputs": [],
   "source": [
    "client = QdrantClient(host='localhost', port=6333)"
   ]
  },
  {
   "cell_type": "code",
   "execution_count": 6,
   "id": "ec136054",
   "metadata": {},
   "outputs": [],
   "source": [
    "if not client.collection_exists('rag_qdrant_collection'):\n",
    "    client.create_collection(\n",
    "        collection_name='rag_qdrant_collection',\n",
    "        vectors_config=VectorParams(size=1536, distance=Distance.COSINE)\n",
    "    )"
   ]
  },
  {
   "cell_type": "code",
   "execution_count": 11,
   "id": "60a96012",
   "metadata": {},
   "outputs": [],
   "source": [
    "load_dotenv()\n",
    "\n",
    "openai_api_key = os.getenv('OPENAI_API_KEY')\n",
    "\n",
    "embeddings = OpenAIEmbeddings(\n",
    "    api_key=openai_api_key,\n",
    "    model='text-embedding-ada-002'\n",
    ")"
   ]
  },
  {
   "cell_type": "code",
   "execution_count": 12,
   "id": "a1665fc2",
   "metadata": {},
   "outputs": [
    {
     "name": "stderr",
     "output_type": "stream",
     "text": [
      "C:\\Users\\maldi\\AppData\\Local\\Temp\\ipykernel_22296\\4162862089.py:1: LangChainDeprecationWarning: The class `Qdrant` was deprecated in LangChain 0.0.37 and will be removed in 1.0. An updated version of the class exists in the :class:`~langchain-qdrant package and should be used instead. To use it run `pip install -U :class:`~langchain-qdrant` and import as `from :class:`~langchain_qdrant import Qdrant``.\n",
      "  vectorstore = Qdrant(\n"
     ]
    }
   ],
   "source": [
    "vectorstore = Qdrant(\n",
    "    client=client,\n",
    "    collection_name='rag_qdrant_collection',\n",
    "    embeddings=embeddings\n",
    ")"
   ]
  },
  {
   "cell_type": "code",
   "execution_count": 13,
   "id": "0d4ce4ac",
   "metadata": {},
   "outputs": [],
   "source": [
    "def get_chunks(text):\n",
    "    text_splitter = CharacterTextSplitter(\n",
    "        separator=\"\\n\",\n",
    "        chunk_size=1000,\n",
    "        chunk_overlap=200,\n",
    "        length_function=len\n",
    "    )\n",
    "    chunks = text_splitter.split_text(text)\n",
    "    return chunks"
   ]
  },
  {
   "cell_type": "code",
   "execution_count": 15,
   "id": "49ec2152",
   "metadata": {},
   "outputs": [],
   "source": [
    "with open(\"./files/data.txt\") as f:\n",
    "    raw_text = f.read()"
   ]
  },
  {
   "cell_type": "code",
   "execution_count": 18,
   "id": "271540b8",
   "metadata": {},
   "outputs": [
    {
     "data": {
      "text/plain": [
       "['7a001245e9a04dbc9781e3d76fa32e7b',\n",
       " 'e1dd4b1702ce4728a80722b337a321f3',\n",
       " '0aeaeb1ba5804cd3aad2c09d819a6eb0',\n",
       " '7b55a0407c314554b5135776eba43e27',\n",
       " 'caf02e0e2963439ba8f977b039ef35a3',\n",
       " '8c30848e7ff64fe4970cb85eda36d4c4',\n",
       " '2183eadd9a044c95a98591a525625ed3']"
      ]
     },
     "execution_count": 18,
     "metadata": {},
     "output_type": "execute_result"
    }
   ],
   "source": [
    "texts = get_chunks(raw_text)\n",
    "\n",
    "vectorstore.add_texts(texts)"
   ]
  },
  {
   "cell_type": "code",
   "execution_count": 19,
   "id": "a4b8f71b",
   "metadata": {},
   "outputs": [
    {
     "name": "stderr",
     "output_type": "stream",
     "text": [
      "C:\\Users\\maldi\\AppData\\Local\\Temp\\ipykernel_22296\\3755277632.py:2: LangChainDeprecationWarning: The class `OpenAI` was deprecated in LangChain 0.0.10 and will be removed in 1.0. An updated version of the class exists in the :class:`~langchain-openai package and should be used instead. To use it run `pip install -U :class:`~langchain-openai` and import as `from :class:`~langchain_openai import OpenAI``.\n",
      "  llm=OpenAI(),\n"
     ]
    }
   ],
   "source": [
    "qa = RetrievalQA.from_chain_type(\n",
    "    llm=OpenAI(),\n",
    "    chain_type=\"stuff\",\n",
    "    retriever=vectorstore.as_retriever()\n",
    ")"
   ]
  },
  {
   "cell_type": "code",
   "execution_count": 21,
   "id": "c17187ac",
   "metadata": {},
   "outputs": [
    {
     "name": "stderr",
     "output_type": "stream",
     "text": [
      "C:\\Users\\maldi\\AppData\\Local\\Temp\\ipykernel_22296\\3167203859.py:3: LangChainDeprecationWarning: The method `Chain.run` was deprecated in langchain 0.1.0 and will be removed in 1.0. Use :meth:`~invoke` instead.\n",
      "  response = qa.run(query)\n"
     ]
    },
    {
     "name": "stdout",
     "output_type": "stream",
     "text": [
      " O Qdrant é um mecanismo de banco de dados vetorial open-source, projetado para armazenar, indexar e buscar vetores de alta dimensão.\n"
     ]
    }
   ],
   "source": [
    "query = \"O que é o Qdrant?\"\n",
    "\n",
    "response = qa.run(query)\n",
    "\n",
    "print(response)"
   ]
  },
  {
   "cell_type": "code",
   "execution_count": 22,
   "id": "a7ea8f02",
   "metadata": {},
   "outputs": [
    {
     "name": "stdout",
     "output_type": "stream",
     "text": [
      " Um banco de dados vetorial é um tipo de banco de dados especializado em armazenar e recuperar vetores, que são representações numéricas de informações geradas por modelos de machine learning. Esses vetores costumam ter centenas ou milhares de dimensões e são usados para medir a similaridade entre dados.\n"
     ]
    }
   ],
   "source": [
    "query = \"O que é um banco de dados vetorial?\"\n",
    "\n",
    "response = qa.run(query)\n",
    "\n",
    "print(response)"
   ]
  }
 ],
 "metadata": {
  "kernelspec": {
   "display_name": ".venv",
   "language": "python",
   "name": "python3"
  },
  "language_info": {
   "codemirror_mode": {
    "name": "ipython",
    "version": 3
   },
   "file_extension": ".py",
   "mimetype": "text/x-python",
   "name": "python",
   "nbconvert_exporter": "python",
   "pygments_lexer": "ipython3",
   "version": "3.12.3"
  }
 },
 "nbformat": 4,
 "nbformat_minor": 5
}
