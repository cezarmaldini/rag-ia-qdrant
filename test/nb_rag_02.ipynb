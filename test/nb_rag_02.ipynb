{
 "cells": [
  {
   "cell_type": "code",
   "execution_count": 11,
   "id": "7a1852eb",
   "metadata": {},
   "outputs": [],
   "source": [
    "import os\n",
    "from dotenv import load_dotenv\n",
    "from langchain_openai import ChatOpenAI\n",
    "\n",
    "from langchain.schema import SystemMessage, HumanMessage, AIMessage"
   ]
  },
  {
   "cell_type": "code",
   "execution_count": 12,
   "id": "78c13044",
   "metadata": {},
   "outputs": [],
   "source": [
    "chat = ChatOpenAI(\n",
    "    model='gpt-3.5-turbo'\n",
    ")"
   ]
  },
  {
   "cell_type": "code",
   "execution_count": 13,
   "id": "510fc3a5",
   "metadata": {},
   "outputs": [],
   "source": [
    "messages = [\n",
    "    SystemMessage(content='Você é um assitente útil que responde perguntas.'),\n",
    "    HumanMessage(content='Olá bot, como você está hoje?'),\n",
    "    AIMessage(content='Estou bem, obrigado. Como posso ajudar?'),\n",
    "    HumanMessage(content='Gostaria de entender o que é machine learning.')\n",
    "]"
   ]
  },
  {
   "cell_type": "code",
   "execution_count": 14,
   "id": "dab27ccd",
   "metadata": {},
   "outputs": [
    {
     "name": "stdout",
     "output_type": "stream",
     "text": [
      "Machine learning é um subcampo da inteligência artificial que se concentra no desenvolvimento de algoritmos e técnicas que permitem aos computadores aprender e melhorar a partir de dados e experiências anteriores. Em vez de programar explicitamente um computador para executar uma tarefa específica, o machine learning permite que o computador aprenda a partir de exemplos e experiências e aprimore seu desempenho ao longo do tempo. Isso torna o machine learning especialmente útil para lidar com problemas complexos e dados grandes, nos quais pode ser difícil codificar uma solução tradicionalmente. Há vários tipos de algoritmos de machine learning, como aprendizado supervisionado, não supervisionado e por reforço, que são usados em uma variedade de aplicações, como reconhecimento de padrões, previsão de resultados, classificação de dados e muito mais.\n"
     ]
    }
   ],
   "source": [
    "response = chat.invoke(messages)\n",
    "\n",
    "print(response.content)"
   ]
  },
  {
   "cell_type": "code",
   "execution_count": 15,
   "id": "40cc5b22",
   "metadata": {},
   "outputs": [],
   "source": [
    "messages.append(response)"
   ]
  },
  {
   "cell_type": "code",
   "execution_count": 16,
   "id": "bc9ee144",
   "metadata": {},
   "outputs": [
    {
     "data": {
      "text/plain": [
       "[SystemMessage(content='Você é um assitente útil que responde perguntas.', additional_kwargs={}, response_metadata={}),\n",
       " HumanMessage(content='Olá bot, como você está hoje?', additional_kwargs={}, response_metadata={}),\n",
       " AIMessage(content='Estou bem, obrigado. Como posso ajudar?', additional_kwargs={}, response_metadata={}),\n",
       " HumanMessage(content='Gostaria de entender o que é machine learning.', additional_kwargs={}, response_metadata={}),\n",
       " AIMessage(content='Machine learning é um subcampo da inteligência artificial que se concentra no desenvolvimento de algoritmos e técnicas que permitem aos computadores aprender e melhorar a partir de dados e experiências anteriores. Em vez de programar explicitamente um computador para executar uma tarefa específica, o machine learning permite que o computador aprenda a partir de exemplos e experiências e aprimore seu desempenho ao longo do tempo. Isso torna o machine learning especialmente útil para lidar com problemas complexos e dados grandes, nos quais pode ser difícil codificar uma solução tradicionalmente. Há vários tipos de algoritmos de machine learning, como aprendizado supervisionado, não supervisionado e por reforço, que são usados em uma variedade de aplicações, como reconhecimento de padrões, previsão de resultados, classificação de dados e muito mais.', additional_kwargs={'refusal': None}, response_metadata={'token_usage': {'completion_tokens': 196, 'prompt_tokens': 66, 'total_tokens': 262, 'completion_tokens_details': {'accepted_prediction_tokens': 0, 'audio_tokens': 0, 'reasoning_tokens': 0, 'rejected_prediction_tokens': 0}, 'prompt_tokens_details': {'audio_tokens': 0, 'cached_tokens': 0}}, 'model_name': 'gpt-3.5-turbo-0125', 'system_fingerprint': None, 'id': 'chatcmpl-C10FfwckbXtpbNSYWTfNyNJfW8yNv', 'service_tier': 'default', 'finish_reason': 'stop', 'logprobs': None}, id='run--2c244913-80ab-4c15-a72e-f20f88f3d3ff-0', usage_metadata={'input_tokens': 66, 'output_tokens': 196, 'total_tokens': 262, 'input_token_details': {'audio': 0, 'cache_read': 0}, 'output_token_details': {'audio': 0, 'reasoning': 0}})]"
      ]
     },
     "execution_count": 16,
     "metadata": {},
     "output_type": "execute_result"
    }
   ],
   "source": [
    "messages"
   ]
  },
  {
   "cell_type": "code",
   "execution_count": 17,
   "id": "78d7a210",
   "metadata": {},
   "outputs": [],
   "source": [
    "prompt_user = HumanMessage(\n",
    "    content='Qual é a diferença entre IA Tradicional e IA Generativa?'\n",
    ")\n",
    "\n",
    "messages.append(prompt_user)"
   ]
  },
  {
   "cell_type": "code",
   "execution_count": 19,
   "id": "1676698f",
   "metadata": {},
   "outputs": [
    {
     "name": "stdout",
     "output_type": "stream",
     "text": [
      "A inteligência artificial (IA) tradicional se refere a sistemas de IA que são programados para executar tarefas específicas com base em regras e lógica definidas pelos programadores. Esses sistemas são projetados para resolver problemas de forma específica e direta e não possuem a capacidade de gerar novos conteúdos ou respostas inéditas.\n",
      "\n",
      "Por outro lado, a IA generativa é uma abordagem mais avançada que se baseia em técnicas de aprendizado profundo e redes neurais artificiais para criar conteúdos completamente novos e originais. Em vez de simplesmente realizar uma tarefa predefinida, como reconhecimento de padrões ou classificação de dados, a IA generativa pode criar novas imagens, textos, músicas e até mesmo interações realistas sem a necessidade de exemplos específicos para orientá-la.\n",
      "\n",
      "Em resumo, a diferença fundamental entre a IA tradicional e a IA generativa está na capacidade desta última de gerar novos conteúdos de forma autônoma e criativa, enquanto a primeira se limita a resolver problemas específicos com base em regras predefinidas.\n"
     ]
    }
   ],
   "source": [
    "response = chat.invoke(messages)\n",
    "print(response.content)"
   ]
  }
 ],
 "metadata": {
  "kernelspec": {
   "display_name": ".venv",
   "language": "python",
   "name": "python3"
  },
  "language_info": {
   "codemirror_mode": {
    "name": "ipython",
    "version": 3
   },
   "file_extension": ".py",
   "mimetype": "text/x-python",
   "name": "python",
   "nbconvert_exporter": "python",
   "pygments_lexer": "ipython3",
   "version": "3.12.3"
  }
 },
 "nbformat": 4,
 "nbformat_minor": 5
}
